{
 "cells": [
  {
   "cell_type": "markdown",
   "id": "d298d233",
   "metadata": {},
   "source": [
    "# Testing jm_utils"
   ]
  },
  {
   "cell_type": "markdown",
   "id": "099aaf4a",
   "metadata": {},
   "source": [
    "## Load all modules\n",
    "- Vamos a probar si los módulos py usados por mis modulos quedan disponibles sin necesidad de cargarlos explicitamene"
   ]
  },
  {
   "cell_type": "code",
   "execution_count": 1,
   "id": "665ef125",
   "metadata": {},
   "outputs": [],
   "source": [
    "#### Load all modules\n",
    "import jm_utils.jm_datetime as jm_dt            # import datetime as dtm\n",
    "import jm_utils.jm_environtment as jm_env\n",
    "import jm_utils.jm_logger as jm_logger\n",
    "import jm_utils.jm_richprt as jm_rich"
   ]
  },
  {
   "cell_type": "code",
   "execution_count": 2,
   "id": "91fae35c",
   "metadata": {},
   "outputs": [
    {
     "data": {
      "text/plain": [
       "'0.1.0'"
      ]
     },
     "execution_count": 2,
     "metadata": {},
     "output_type": "execute_result"
    }
   ],
   "source": [
    "## Read modules info\n",
    "jm_dt.__version__"
   ]
  },
  {
   "cell_type": "code",
   "execution_count": null,
   "id": "f5c847dc",
   "metadata": {},
   "outputs": [
    {
     "data": {
      "text/plain": [
       "{}"
      ]
     },
     "execution_count": 3,
     "metadata": {},
     "output_type": "execute_result"
    },
    {
     "name": "stdout",
     "output_type": "stream",
     "text": [
      "\u001b[1;31mSignature:\u001b[0m \u001b[0mjm_dt\u001b[0m\u001b[1;33m.\u001b[0m\u001b[0mlast_day_of_month\u001b[0m\u001b[1;33m(\u001b[0m\u001b[0myyyymm\u001b[0m\u001b[1;33m:\u001b[0m \u001b[0mstr\u001b[0m\u001b[1;33m,\u001b[0m \u001b[0moutput_type\u001b[0m\u001b[1;33m:\u001b[0m \u001b[0mstr\u001b[0m \u001b[1;33m=\u001b[0m \u001b[1;34m'string'\u001b[0m\u001b[1;33m)\u001b[0m\u001b[1;33m\u001b[0m\u001b[1;33m\u001b[0m\u001b[0m\n",
      "\u001b[1;31mDocstring:\u001b[0m\n",
      "Get last day of the month in yyyymm\n",
      "\n",
      "yyyymm: str         -> Valid every year\n",
      "output_type: str    -> 'string' (default), 'date', 'datetime'\n",
      "\u001b[1;31mFile:\u001b[0m      c:\\users\\jm\\git_repos\\jm_utills\\jm_utils\\jm_utils\\jm_datetime.py\n",
      "\u001b[1;31mType:\u001b[0m      function\n"
     ]
    }
   ],
   "source": [
    "## Trying import datetime as dtm\n",
    "# dtm.datetime.now()      # NameError: name 'dtm' is not defined\n",
    "\n",
    "## Check functions of jm_dt\n",
    "jm_dt.__dict__\n",
    "jm_dt.__doc__\n",
    "jm_dt.last_day_of_month?\n",
    "jm_dt.last_day_of_month.__dict__"
   ]
  },
  {
   "cell_type": "code",
   "execution_count": 5,
   "id": "c9b713cc",
   "metadata": {},
   "outputs": [
    {
     "name": "stdout",
     "output_type": "stream",
     "text": [
      "1967-10-31  -  <class 'datetime.date'>\n",
      "20250228  -  <class 'str'>\n",
      "2036-02-29 00:00:00  -  <class 'datetime.datetime'>\n",
      "00010228  -  <class 'str'>\n"
     ]
    }
   ],
   "source": [
    "## Try jm_dt.last_day_of_month()\n",
    "for period, output_t in zip(['196710', '202502', '203602', '000102'], ['date', 'string', 'datetime', 'string']):\n",
    "    ldom = jm_dt.last_day_of_month(period, output_t)\n",
    "    print(ldom, ' - ',type(ldom))\n"
   ]
  }
 ],
 "metadata": {
  "kernelspec": {
   "display_name": "Python 3",
   "language": "python",
   "name": "python3"
  },
  "language_info": {
   "codemirror_mode": {
    "name": "ipython",
    "version": 3
   },
   "file_extension": ".py",
   "mimetype": "text/x-python",
   "name": "python",
   "nbconvert_exporter": "python",
   "pygments_lexer": "ipython3",
   "version": "3.11.0"
  }
 },
 "nbformat": 4,
 "nbformat_minor": 5
}
