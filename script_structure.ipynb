{
 "cells": [
  {
   "cell_type": "markdown",
   "id": "5b4ec53d",
   "metadata": {},
   "source": [
    "# Script Structure\n",
    "- https://realpython.com/python-script-structure/?utm_source=notification_summary&utm_medium=email&utm_campaign=2025-06-03\n",
    "- https://realpython.com/ruff-python/"
   ]
  }
 ],
 "metadata": {
  "language_info": {
   "name": "python"
  }
 },
 "nbformat": 4,
 "nbformat_minor": 5
}
